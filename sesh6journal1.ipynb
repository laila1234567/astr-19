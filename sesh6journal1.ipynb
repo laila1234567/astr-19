{
 "cells": [
  {
   "attachments": {},
   "cell_type": "markdown",
   "metadata": {},
   "source": [
    "#Functions for sin(x) and cos(x)\n",
    "In this notebook, I am going to create functions that calculate sin(x) and cos(x). Then, I will create a table to show the results of these functions for x values between 0 and 2. Then, I’ll use a loop to print out the first 10 values of x, sin(x), and cos(x)."
   ]
  },
  {
   "cell_type": "code",
   "execution_count": 1,
   "metadata": {},
   "outputs": [],
   "source": [
    "import numpy as np\n",
    "\n",
    "def sin_x(x):\n",
    "    return np.sin(x)\n",
    "\n",
    "def cos_x(x):\n",
    "    return np.cos(x)\n"
   ]
  },
  {
   "attachments": {},
   "cell_type": "markdown",
   "metadata": {},
   "source": [
    "Now we will generate a list of x values ranging from 0 to 2 with a total of 1000 entries. \n",
    "For each of the x values, we shall compute sin(x) and cos(x) with the functions defined above"
   ]
  },
  {
   "cell_type": "code",
   "execution_count": 2,
   "metadata": {},
   "outputs": [
    {
     "data": {
      "text/plain": [
       "[(0.0, 0.0, 1.0),\n",
       " (0.002002002002002002, 0.0020020006646609234, 0.9999979959946613),\n",
       " (0.004004004004004004, 0.004003993305281807, 0.9999919839866774),\n",
       " (0.006006006006006006, 0.0060059698978547705, 0.9999819640001444),\n",
       " (0.008008008008008008, 0.008007922418436255, 0.9999679360752225),\n",
       " (0.01001001001001001, 0.010009842843179184, 0.9999499002681359),\n",
       " (0.012012012012012012, 0.012011723148365119, 0.9999278566511721),\n",
       " (0.014014014014014014, 0.014013555310436422, 0.9999018053126824),\n",
       " (0.016016016016016016, 0.016015331306028415, 0.9998717463570806),\n",
       " (0.018018018018018018, 0.01801704311200153, 0.9998376799048435)]"
      ]
     },
     "execution_count": 2,
     "metadata": {},
     "output_type": "execute_result"
    }
   ],
   "source": [
    "#Generate x values from 0 to 2\n",
    "x_values = np.linspace(0, 2, 1000)\n",
    "\n",
    "#Computing sin(x) and cos(x) for each value of x:\n",
    "sin_values = [sin_x(x) for x in x_values]\n",
    "cos_values = [cos_x(x) for x in x_values]\n",
    "\n",
    "#Table of x, sin(x), and cos(x)\n",
    "table = list(zip(x_values, sin_values, cos_values))\n",
    "\n",
    "#Showing the first 10 rows of the table\n",
    "table[:10]\n"
   ]
  },
  {
   "attachments": {},
   "cell_type": "markdown",
   "metadata": {},
   "source": [
    "In this cell, we are going to print the first 10 values of x, sin(x), and cos(x) (using a for loop).\n"
   ]
  },
  {
   "cell_type": "code",
   "execution_count": 3,
   "metadata": {},
   "outputs": [
    {
     "name": "stdout",
     "output_type": "stream",
     "text": [
      "x = 0.000, sin(x) = 0.000, cos(x) = 1.000\n",
      "x = 0.002, sin(x) = 0.002, cos(x) = 1.000\n",
      "x = 0.004, sin(x) = 0.004, cos(x) = 1.000\n",
      "x = 0.006, sin(x) = 0.006, cos(x) = 1.000\n",
      "x = 0.008, sin(x) = 0.008, cos(x) = 1.000\n",
      "x = 0.010, sin(x) = 0.010, cos(x) = 1.000\n",
      "x = 0.012, sin(x) = 0.012, cos(x) = 1.000\n",
      "x = 0.014, sin(x) = 0.014, cos(x) = 1.000\n",
      "x = 0.016, sin(x) = 0.016, cos(x) = 1.000\n",
      "x = 0.018, sin(x) = 0.018, cos(x) = 1.000\n"
     ]
    }
   ],
   "source": [
    "#printing the first 10 values of x, sin(x), and cos(x)\n",
    "for i in range(10):\n",
    "    print(f\"x = {table[i][0]:.3f}, sin(x) = {table[i][1]:.3f}, cos(x) = {table[i][2]:.3f}\")\n"
   ]
  }
 ],
 "metadata": {
  "kernelspec": {
   "display_name": "Python 3",
   "language": "python",
   "name": "python3"
  },
  "language_info": {
   "codemirror_mode": {
    "name": "ipython",
    "version": 3
   },
   "file_extension": ".py",
   "mimetype": "text/x-python",
   "name": "python",
   "nbconvert_exporter": "python",
   "pygments_lexer": "ipython3",
   "version": "3.9.6"
  },
  "orig_nbformat": 4
 },
 "nbformat": 4,
 "nbformat_minor": 2
}
