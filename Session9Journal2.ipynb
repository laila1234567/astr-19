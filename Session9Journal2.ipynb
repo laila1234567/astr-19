{
 "cells": [
  {
   "cell_type": "code",
   "execution_count": null,
   "id": "b9aa46e7-5ccf-46e6-9e9f-05c69840b97e",
   "metadata": {},
   "outputs": [],
   "source": [
    "import numpy as np\n",
    "import matplotlib.pyplot as plt\n"
   ]
  },
  {
   "cell_type": "code",
   "execution_count": null,
   "id": "37dbcb96-7d1e-4853-ab4d-76bb11500c82",
   "metadata": {},
   "outputs": [],
   "source": [
    "#1000 random numbers..\n",
    "random_numbers = np.random.uniform(0, 1, 1000)"
   ]
  },
  {
   "cell_type": "code",
   "execution_count": null,
   "id": "88769abe-61f5-41c9-8a41-c4b178c8aab6",
   "metadata": {},
   "outputs": [],
   "source": [
    "#Plotting histogram with 100 bin\n",
    "plt.figure(figsize=(10, 6))\n",
    "plt.hist(random_numbers, bins=100, color='skyblue', edgecolor='black')\n",
    "plt.xlabel('Random Number Value')\n",
    "plt.ylabel('Frequency')\n",
    "plt.title('Histogram of Uniformly Distributed Random Numbers')\n",
    "\n",
    "#Saving figure as a PDF\n",
    "plt.savefig('histogram_uniform_distribution.pdf')\n",
    "plt.show()  # Display the histogram\n"
   ]
  }
 ],
 "metadata": {
  "kernelspec": {
   "display_name": "Python 3 (ipykernel)",
   "language": "python",
   "name": "python3"
  },
  "language_info": {
   "codemirror_mode": {
    "name": "ipython",
    "version": 3
   },
   "file_extension": ".py",
   "mimetype": "text/x-python",
   "name": "python",
   "nbconvert_exporter": "python",
   "pygments_lexer": "ipython3",
   "version": "3.12.4"
  }
 },
 "nbformat": 4,
 "nbformat_minor": 5
}
