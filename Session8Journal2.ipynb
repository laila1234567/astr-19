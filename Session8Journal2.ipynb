{
 "cells": [
  {
   "cell_type": "code",
   "execution_count": null,
   "id": "8de85507-6545-47a9-a64a-d27e4367d640",
   "metadata": {},
   "outputs": [],
   "source": [
    "import numpy as np\n",
    "import matplotlib.pyplot as plt"
   ]
  },
  {
   "cell_type": "code",
   "execution_count": null,
   "id": "5adb0c3d-0900-4236-9483-1e47552a7211",
   "metadata": {},
   "outputs": [],
   "source": [
    "x = np.linspace(0, 1, 100)"
   ]
  },
  {
   "cell_type": "code",
   "execution_count": null,
   "id": "1ac79a78-fb64-4db0-b427-e9d8c22535b3",
   "metadata": {},
   "outputs": [],
   "source": [
    "def sin_func(x):\n",
    "    return np.sin(x)\n",
    "    \n",
    "def cos_func(x):\n",
    "    return np.cos(x)"
   ]
  },
  {
   "cell_type": "code",
   "execution_count": null,
   "id": "633137e8-2b12-454f-83c3-1d0d9621ed32",
   "metadata": {},
   "outputs": [],
   "source": [
    "fig, axs = plt.subplots(1, 2, figsize=(12, 6)) \n",
    "axs[0].plot(x, sin_function(x), label='sin(x)', color='blue')\n",
    "axs[0].set_title('sin(x)')\n",
    "axs[0].set_xlabel('x')\n",
    "axs[0].set_ylabel('sin(x)')\n",
    "axs[0].grid(True)\n",
    "axs[0].legend()\n",
    "\n",
    "axs[1].plot(x, cos_function(x), label='cos(x)', color='orange')\n",
    "axs[1].set_title('cos(x)')  # Title for the right panel\n",
    "axs[1].set_xlabel('x')\n",
    "axs[1].set_ylabel('cos(x)')\n",
    "axs[1].grid(True)\n",
    "axs[1].legend()\n",
    "\n",
    "plt.tight_layout()\n",
    "plt.savefig('multipanel_plot_sin_cos.pdf')\n",
    "plt.show()  # Display the plot"
   ]
  }
 ],
 "metadata": {
  "kernelspec": {
   "display_name": "Python 3 (ipykernel)",
   "language": "python",
   "name": "python3"
  },
  "language_info": {
   "codemirror_mode": {
    "name": "ipython",
    "version": 3
   },
   "file_extension": ".py",
   "mimetype": "text/x-python",
   "name": "python",
   "nbconvert_exporter": "python",
   "pygments_lexer": "ipython3",
   "version": "3.12.4"
  }
 },
 "nbformat": 4,
 "nbformat_minor": 5
}
