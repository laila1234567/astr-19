{
 "cells": [
  {
   "cell_type": "code",
   "execution_count": 2,
   "id": "c0646c1a-6ef2-469b-85ab-1bfd83660442",
   "metadata": {},
   "outputs": [],
   "source": [
    "import numpy as np\n",
    "\n",
    "#Function to return the sine of x\n",
    "def sin_function(x):\n",
    "    #This function takes a numeric input x in radians and returns the sine of x using numpy's sin function.\n",
    "    return np.sin(x)\n"
   ]
  },
  {
   "cell_type": "code",
   "execution_count": 3,
   "id": "f58d804e",
   "metadata": {},
   "outputs": [],
   "source": [
    "#Function to return the cosine of x\n",
    "def cos_function(x):\n",
    "    #This function also takes a numeric input x in radians and returns the cosine of x using numpy's cos function.\n",
    "    return np.cos(x)\n"
   ]
  },
  {
   "cell_type": "code",
   "execution_count": 6,
   "id": "03a66d42",
   "metadata": {},
   "outputs": [],
   "source": [
    "#Generating 1000 points for x between 0 and 2π\n",
    "x_values = np.linspace(0, 2 * np.pi, 1000)\n",
    "\n",
    "#Calculating sin(x) and cos(x) using the defined functions\n",
    "sin_values = sin_function(x_values)\n",
    "cos_values = cos_function(x_values)\n"
   ]
  },
  {
   "cell_type": "code",
   "execution_count": 9,
   "id": "c32b9e76",
   "metadata": {},
   "outputs": [
    {
     "name": "stdout",
     "output_type": "stream",
     "text": [
      "x (radians)          sin(x)          cos(x)         \n",
      "--------------------------------------------------\n",
      "0.0000000000         0.0000000000    1.0000000000   \n",
      "0.0062894748         0.0062894333    0.9999802213   \n",
      "0.0125789496         0.0125786178    0.9999208861   \n",
      "0.0188684243         0.0188673048    0.9998219966   \n",
      "0.0251578991         0.0251552454    0.9996835567   \n",
      "0.0314473739         0.0314421909    0.9995055721   \n",
      "0.0377368487         0.0377278927    0.9992880496   \n",
      "0.0440263235         0.0440121020    0.9990309980   \n",
      "0.0503157983         0.0502945704    0.9987344273   \n",
      "0.0566052730         0.0565750492    0.9983983493   \n"
     ]
    }
   ],
   "source": [
    "#First 10 values of x, sin(x), and cos(x)\n",
    "print(f\"{'x (radians)':<20} {'sin(x)':<15} {'cos(x)':<15}\")\n",
    "print(\"-\" * 50)\n",
    "\n",
    "for i in range(10):\n",
    "    print(f\"{x_values[i]:<20.10f} {sin_values[i]:<15.10f} {cos_values[i]:<15.10f}\")\n"
   ]
  },
  {
   "cell_type": "code",
   "execution_count": null,
   "id": "51bb46e8-46ed-46d8-aef2-d4791bfdb5ae",
   "metadata": {},
   "outputs": [],
   "source": []
  }
 ],
 "metadata": {
  "kernelspec": {
   "display_name": "Python 3 (ipykernel)",
   "language": "python",
   "name": "python3"
  },
  "language_info": {
   "codemirror_mode": {
    "name": "ipython",
    "version": 3
   },
   "file_extension": ".py",
   "mimetype": "text/x-python",
   "name": "python",
   "nbconvert_exporter": "python",
   "pygments_lexer": "ipython3",
   "version": "3.12.4"
  }
 },
 "nbformat": 4,
 "nbformat_minor": 5
}
